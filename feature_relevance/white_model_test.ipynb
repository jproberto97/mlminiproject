{
 "cells": [
  {
   "cell_type": "code",
   "execution_count": 1,
   "metadata": {},
   "outputs": [],
   "source": [
    "import pandas as pd\n",
    "from sklearn.neural_network import MLPClassifier\n",
    "from joblib import dump, load\n",
    "from sklearn.metrics import multilabel_confusion_matrix\n",
    "from sklearn.metrics import classification_report"
   ]
  },
  {
   "cell_type": "code",
   "execution_count": 2,
   "metadata": {},
   "outputs": [],
   "source": [
    "input_model_file = \"../models/white_mlp.joblib\"\n",
    "input_model_hyperparam = \"white_hyper.joblib\"\n",
    "input_test_file = \"x_test_relevant.csv\"\n",
    "input_labels_file = \"y_test_white.csv\"\n",
    "\n",
    "df_x = pd.read_csv(input_test_file)\n",
    "df_y = pd.read_csv(input_labels_file)\n",
    "\n",
    "x = df_x.values\n",
    "y = df_y.values"
   ]
  },
  {
   "cell_type": "code",
   "execution_count": 3,
   "metadata": {},
   "outputs": [
    {
     "data": {
      "text/plain": [
       "array([[0., 0., 0., ..., 0., 0., 0.],\n",
       "       [0., 0., 0., ..., 0., 0., 0.],\n",
       "       [0., 0., 0., ..., 0., 0., 0.],\n",
       "       ...,\n",
       "       [0., 0., 0., ..., 0., 0., 0.],\n",
       "       [0., 0., 0., ..., 0., 0., 0.],\n",
       "       [0., 0., 0., ..., 0., 0., 0.]])"
      ]
     },
     "execution_count": 3,
     "metadata": {},
     "output_type": "execute_result"
    }
   ],
   "source": [
    "# Load model\n",
    "clf = load(input_model_hyperparam)\n",
    "\n",
    "def one_hot_encoding(nd_array):\n",
    "    one_hot_encoding_predictions = nd_array\n",
    "\n",
    "    for i in range(len(nd_array)):\n",
    "        max_pred = max(nd_array[i])\n",
    "\n",
    "        for j in range(len(nd_array[i])):\n",
    "            one_hot_encoding_predictions[i][j] = 1 if nd_array[i][j] == max_pred else 0\n",
    "\n",
    "    return one_hot_encoding_predictions\n",
    "\n",
    "predictions = clf.predict_proba(x)\n",
    "\n",
    "predictions = one_hot_encoding(predictions)\n",
    "\n",
    "predictions"
   ]
  },
  {
   "cell_type": "code",
   "execution_count": 4,
   "metadata": {},
   "outputs": [
    {
     "data": {
      "text/plain": [
       "array([[[329,   0],\n",
       "        [  0,   0]],\n",
       "\n",
       "       [[316,   0],\n",
       "        [ 13,   0]],\n",
       "\n",
       "       [[193,  30],\n",
       "        [ 53,  53]],\n",
       "\n",
       "       [[ 76,  98],\n",
       "        [ 32, 123]],\n",
       "\n",
       "       [[266,  20],\n",
       "        [ 38,   5]],\n",
       "\n",
       "       [[318,   0],\n",
       "        [ 11,   0]],\n",
       "\n",
       "       [[328,   0],\n",
       "        [  1,   0]]], dtype=int64)"
      ]
     },
     "execution_count": 4,
     "metadata": {},
     "output_type": "execute_result"
    }
   ],
   "source": [
    "# Benchmark our predictions\n",
    "benchmarks = multilabel_confusion_matrix(y, predictions)\n",
    "\n",
    "benchmarks"
   ]
  },
  {
   "cell_type": "code",
   "execution_count": 5,
   "metadata": {},
   "outputs": [
    {
     "name": "stdout",
     "output_type": "stream",
     "text": [
      "              precision    recall  f1-score   support\n",
      "\n",
      "           0       0.00      0.00      0.00         0\n",
      "           1       0.00      0.00      0.00        13\n",
      "           2       0.64      0.50      0.56       106\n",
      "           3       0.56      0.79      0.65       155\n",
      "           4       0.20      0.12      0.15        43\n",
      "           5       0.00      0.00      0.00        11\n",
      "           6       0.00      0.00      0.00         1\n",
      "\n",
      "   micro avg       0.55      0.55      0.55       329\n",
      "   macro avg       0.20      0.20      0.19       329\n",
      "weighted avg       0.49      0.55      0.51       329\n",
      " samples avg       0.55      0.55      0.55       329\n",
      "\n"
     ]
    },
    {
     "name": "stderr",
     "output_type": "stream",
     "text": [
      "c:\\Users\\APONCE\\Desktop\\group\\mlminiproject\\env\\lib\\site-packages\\sklearn\\metrics\\_classification.py:1344: UndefinedMetricWarning: Precision and F-score are ill-defined and being set to 0.0 in labels with no predicted samples. Use `zero_division` parameter to control this behavior.\n",
      "  _warn_prf(average, modifier, msg_start, len(result))\n",
      "c:\\Users\\APONCE\\Desktop\\group\\mlminiproject\\env\\lib\\site-packages\\sklearn\\metrics\\_classification.py:1344: UndefinedMetricWarning: Recall and F-score are ill-defined and being set to 0.0 in labels with no true samples. Use `zero_division` parameter to control this behavior.\n",
      "  _warn_prf(average, modifier, msg_start, len(result))\n"
     ]
    }
   ],
   "source": [
    "report = classification_report(y, predictions)\n",
    "\n",
    "print(report)"
   ]
  }
 ],
 "metadata": {
  "kernelspec": {
   "display_name": "env",
   "language": "python",
   "name": "python3"
  },
  "language_info": {
   "codemirror_mode": {
    "name": "ipython",
    "version": 3
   },
   "file_extension": ".py",
   "mimetype": "text/x-python",
   "name": "python",
   "nbconvert_exporter": "python",
   "pygments_lexer": "ipython3",
   "version": "3.10.7"
  },
  "orig_nbformat": 4,
  "vscode": {
   "interpreter": {
    "hash": "d436f61485600065bbd78f0914ccd3502a94e56b5aeca30a275664867d5d71ca"
   }
  }
 },
 "nbformat": 4,
 "nbformat_minor": 2
}
