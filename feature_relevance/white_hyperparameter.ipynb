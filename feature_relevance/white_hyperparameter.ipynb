{
 "cells": [
  {
   "cell_type": "code",
   "execution_count": 42,
   "metadata": {},
   "outputs": [],
   "source": [
    "import pandas as pd\n",
    "from sklearn.metrics import confusion_matrix\n",
    "from sklearn.metrics import classification_report\n",
    "from sklearn.model_selection import train_test_split\n",
    "import math\n",
    "import numpy as np\n",
    "from sklearn.metrics import accuracy_score\n",
    "from sklearn.neural_network import MLPClassifier\n",
    "from sklearn.metrics import mean_squared_error\n",
    "import random"
   ]
  },
  {
   "attachments": {},
   "cell_type": "markdown",
   "metadata": {},
   "source": [
    "### Open Drugs Dataset and Assign Predictor and Target Variables\n"
   ]
  },
  {
   "cell_type": "code",
   "execution_count": 43,
   "metadata": {},
   "outputs": [
    {
     "data": {
      "text/html": [
       "<div>\n",
       "<style scoped>\n",
       "    .dataframe tbody tr th:only-of-type {\n",
       "        vertical-align: middle;\n",
       "    }\n",
       "\n",
       "    .dataframe tbody tr th {\n",
       "        vertical-align: top;\n",
       "    }\n",
       "\n",
       "    .dataframe thead th {\n",
       "        text-align: right;\n",
       "    }\n",
       "</style>\n",
       "<table border=\"1\" class=\"dataframe\">\n",
       "  <thead>\n",
       "    <tr style=\"text-align: right;\">\n",
       "      <th></th>\n",
       "      <th>fixed acidity</th>\n",
       "      <th>volatile acidity</th>\n",
       "      <th>citric acid</th>\n",
       "      <th>residual sugar</th>\n",
       "      <th>chlorides</th>\n",
       "      <th>free sulfur dioxide</th>\n",
       "      <th>total sulfur dioxide</th>\n",
       "      <th>density</th>\n",
       "      <th>pH</th>\n",
       "      <th>sulphates</th>\n",
       "      <th>alcohol</th>\n",
       "    </tr>\n",
       "  </thead>\n",
       "  <tbody>\n",
       "    <tr>\n",
       "      <th>0</th>\n",
       "      <td>0.5625</td>\n",
       "      <td>0.356757</td>\n",
       "      <td>0.307229</td>\n",
       "      <td>0.021472</td>\n",
       "      <td>0.109792</td>\n",
       "      <td>0.055749</td>\n",
       "      <td>0.662185</td>\n",
       "      <td>0.113553</td>\n",
       "      <td>0.259259</td>\n",
       "      <td>0.392857</td>\n",
       "      <td>0.548387</td>\n",
       "    </tr>\n",
       "    <tr>\n",
       "      <th>1</th>\n",
       "      <td>0.2625</td>\n",
       "      <td>0.237838</td>\n",
       "      <td>0.138554</td>\n",
       "      <td>0.055215</td>\n",
       "      <td>0.086053</td>\n",
       "      <td>0.271777</td>\n",
       "      <td>0.366387</td>\n",
       "      <td>0.101986</td>\n",
       "      <td>0.379630</td>\n",
       "      <td>0.333333</td>\n",
       "      <td>0.483871</td>\n",
       "    </tr>\n",
       "    <tr>\n",
       "      <th>2</th>\n",
       "      <td>0.4625</td>\n",
       "      <td>0.356757</td>\n",
       "      <td>0.138554</td>\n",
       "      <td>0.217791</td>\n",
       "      <td>0.133531</td>\n",
       "      <td>0.174216</td>\n",
       "      <td>0.551261</td>\n",
       "      <td>0.228841</td>\n",
       "      <td>0.407407</td>\n",
       "      <td>0.321429</td>\n",
       "      <td>0.274194</td>\n",
       "    </tr>\n",
       "    <tr>\n",
       "      <th>3</th>\n",
       "      <td>0.2375</td>\n",
       "      <td>0.248649</td>\n",
       "      <td>0.174699</td>\n",
       "      <td>0.102761</td>\n",
       "      <td>0.121662</td>\n",
       "      <td>0.209059</td>\n",
       "      <td>0.447059</td>\n",
       "      <td>0.119722</td>\n",
       "      <td>0.527778</td>\n",
       "      <td>0.333333</td>\n",
       "      <td>0.494624</td>\n",
       "    </tr>\n",
       "    <tr>\n",
       "      <th>4</th>\n",
       "      <td>0.4000</td>\n",
       "      <td>0.140541</td>\n",
       "      <td>0.204819</td>\n",
       "      <td>0.113497</td>\n",
       "      <td>0.142433</td>\n",
       "      <td>0.111498</td>\n",
       "      <td>0.305882</td>\n",
       "      <td>0.159823</td>\n",
       "      <td>0.231481</td>\n",
       "      <td>0.440476</td>\n",
       "      <td>0.225806</td>\n",
       "    </tr>\n",
       "  </tbody>\n",
       "</table>\n",
       "</div>"
      ],
      "text/plain": [
       "   fixed acidity  volatile acidity  citric acid  residual sugar  chlorides  \\\n",
       "0         0.5625          0.356757     0.307229        0.021472   0.109792   \n",
       "1         0.2625          0.237838     0.138554        0.055215   0.086053   \n",
       "2         0.4625          0.356757     0.138554        0.217791   0.133531   \n",
       "3         0.2375          0.248649     0.174699        0.102761   0.121662   \n",
       "4         0.4000          0.140541     0.204819        0.113497   0.142433   \n",
       "\n",
       "   free sulfur dioxide  total sulfur dioxide   density        pH  sulphates  \\\n",
       "0             0.055749              0.662185  0.113553  0.259259   0.392857   \n",
       "1             0.271777              0.366387  0.101986  0.379630   0.333333   \n",
       "2             0.174216              0.551261  0.228841  0.407407   0.321429   \n",
       "3             0.209059              0.447059  0.119722  0.527778   0.333333   \n",
       "4             0.111498              0.305882  0.159823  0.231481   0.440476   \n",
       "\n",
       "    alcohol  \n",
       "0  0.548387  \n",
       "1  0.483871  \n",
       "2  0.274194  \n",
       "3  0.494624  \n",
       "4  0.225806  "
      ]
     },
     "execution_count": 43,
     "metadata": {},
     "output_type": "execute_result"
    }
   ],
   "source": [
    "x = pd.read_csv(\"x_train_white.csv\")\n",
    "x_normalized = (x - x.min()) / (x.max() - x.min())\n",
    "x_normalized.head()"
   ]
  },
  {
   "cell_type": "code",
   "execution_count": 44,
   "metadata": {},
   "outputs": [
    {
     "data": {
      "text/html": [
       "<div>\n",
       "<style scoped>\n",
       "    .dataframe tbody tr th:only-of-type {\n",
       "        vertical-align: middle;\n",
       "    }\n",
       "\n",
       "    .dataframe tbody tr th {\n",
       "        vertical-align: top;\n",
       "    }\n",
       "\n",
       "    .dataframe thead th {\n",
       "        text-align: right;\n",
       "    }\n",
       "</style>\n",
       "<table border=\"1\" class=\"dataframe\">\n",
       "  <thead>\n",
       "    <tr style=\"text-align: right;\">\n",
       "      <th></th>\n",
       "      <th>3</th>\n",
       "      <th>4</th>\n",
       "      <th>5</th>\n",
       "      <th>6</th>\n",
       "      <th>7</th>\n",
       "      <th>8</th>\n",
       "      <th>9</th>\n",
       "    </tr>\n",
       "  </thead>\n",
       "  <tbody>\n",
       "    <tr>\n",
       "      <th>0</th>\n",
       "      <td>0</td>\n",
       "      <td>0</td>\n",
       "      <td>1</td>\n",
       "      <td>0</td>\n",
       "      <td>0</td>\n",
       "      <td>0</td>\n",
       "      <td>0</td>\n",
       "    </tr>\n",
       "    <tr>\n",
       "      <th>1</th>\n",
       "      <td>0</td>\n",
       "      <td>0</td>\n",
       "      <td>1</td>\n",
       "      <td>0</td>\n",
       "      <td>0</td>\n",
       "      <td>0</td>\n",
       "      <td>0</td>\n",
       "    </tr>\n",
       "    <tr>\n",
       "      <th>2</th>\n",
       "      <td>0</td>\n",
       "      <td>0</td>\n",
       "      <td>1</td>\n",
       "      <td>0</td>\n",
       "      <td>0</td>\n",
       "      <td>0</td>\n",
       "      <td>0</td>\n",
       "    </tr>\n",
       "    <tr>\n",
       "      <th>3</th>\n",
       "      <td>0</td>\n",
       "      <td>0</td>\n",
       "      <td>0</td>\n",
       "      <td>1</td>\n",
       "      <td>0</td>\n",
       "      <td>0</td>\n",
       "      <td>0</td>\n",
       "    </tr>\n",
       "    <tr>\n",
       "      <th>4</th>\n",
       "      <td>0</td>\n",
       "      <td>0</td>\n",
       "      <td>1</td>\n",
       "      <td>0</td>\n",
       "      <td>0</td>\n",
       "      <td>0</td>\n",
       "      <td>0</td>\n",
       "    </tr>\n",
       "  </tbody>\n",
       "</table>\n",
       "</div>"
      ],
      "text/plain": [
       "   3  4  5  6  7  8  9\n",
       "0  0  0  1  0  0  0  0\n",
       "1  0  0  1  0  0  0  0\n",
       "2  0  0  1  0  0  0  0\n",
       "3  0  0  0  1  0  0  0\n",
       "4  0  0  1  0  0  0  0"
      ]
     },
     "execution_count": 44,
     "metadata": {},
     "output_type": "execute_result"
    }
   ],
   "source": [
    "## Since y is already one-hot encoded, no need to get dummies\n",
    "y = pd.read_csv(\"y_train_white.csv\")\n",
    "y.head()"
   ]
  },
  {
   "cell_type": "code",
   "execution_count": 45,
   "metadata": {},
   "outputs": [
    {
     "name": "stdout",
     "output_type": "stream",
     "text": [
      "Len Input: 11\n",
      "Len Output: 7\n"
     ]
    }
   ],
   "source": [
    "x_train, x_test, y_train, y_test = train_test_split(x_normalized, y, test_size=0.2)\n",
    "\n",
    "len_input = len(x_train.columns)\n",
    "len_output = len(y_train.columns)\n",
    "\n",
    "print(\"Len Input: {}\".format(len_input))\n",
    "print(\"Len Output: {}\".format(len_output))"
   ]
  },
  {
   "cell_type": "code",
   "execution_count": 46,
   "metadata": {},
   "outputs": [],
   "source": [
    "def objective_function(x, y, x_validation, y_validation, params):\n",
    "    model = MLPClassifier(\n",
    "        random_state=1, \n",
    "        max_iter=1000,\n",
    "        alpha=params['alpha'],\n",
    "        learning_rate_init=params['learning_rate']\n",
    "    )\n",
    "\n",
    "    model.fit(x, y)\n",
    "\n",
    "    predictions = model.predict(x_validation)\n",
    "\n",
    "    return mean_squared_error(predictions, y_validation)"
   ]
  },
  {
   "cell_type": "code",
   "execution_count": 47,
   "metadata": {},
   "outputs": [],
   "source": [
    "grid_parameters = [\n",
    "    { 'alpha': 0.002, 'learning_rate': 0.01 },\n",
    "    { 'alpha': 0.003, 'learning_rate': 0.009 },\n",
    "    { 'alpha': 0.004, 'learning_rate': 0.008 },\n",
    "    { 'alpha': 0.005, 'learning_rate': 0.007 },\n",
    "    { 'alpha': 0.006, 'learning_rate': 0.006 },\n",
    "    { 'alpha': 0.007, 'learning_rate': 0.005 },\n",
    "    { 'alpha': 0.008, 'learning_rate': 0.004 },\n",
    "    { 'alpha': 0.009, 'learning_rate': 0.003 },\n",
    "    { 'alpha': 0.002, 'learning_rate': 0.003 },\n",
    "    { 'alpha': 0.003, 'learning_rate': 0.004 },\n",
    "    { 'alpha': 0.004, 'learning_rate': 0.005 },\n",
    "    { 'alpha': 0.005, 'learning_rate': 0.006 },\n",
    "    { 'alpha': 0.006, 'learning_rate': 0.007 },\n",
    "    { 'alpha': 0.007, 'learning_rate': 0.008 },\n",
    "    { 'alpha': 0.008, 'learning_rate': 0.009 },\n",
    "    { 'alpha': 0.009, 'learning_rate': 0.01 }\n",
    "]"
   ]
  },
  {
   "cell_type": "code",
   "execution_count": 48,
   "metadata": {},
   "outputs": [
    {
     "name": "stdout",
     "output_type": "stream",
     "text": [
      "Loss: 0.12835387962291514\n",
      "Loss: 0.13246313753927966\n",
      "Loss: 0.13197969543147206\n",
      "Loss: 0.12980420594633793\n",
      "Loss: 0.1295624848924341\n",
      "Loss: 0.13028764805414553\n",
      "Loss: 0.13173797437756826\n",
      "Loss: 0.12932076383853033\n",
      "Loss: 0.1295624848924341\n",
      "Loss: 0.13197969543147206\n",
      "Loss: 0.1298042059463379\n",
      "Loss: 0.12859560067681894\n",
      "Loss: 0.12907904278462654\n",
      "Loss: 0.1317379743775683\n",
      "Loss: 0.13173797437756826\n",
      "Loss: 0.12956248489243413\n",
      "Best Loss: 0.12835387962291514\n",
      "Best params: {'alpha': 0.002, 'learning_rate': 0.01}\n"
     ]
    }
   ],
   "source": [
    "best_params = None\n",
    "current_loss = 1000\n",
    "\n",
    "for params in grid_parameters:\n",
    "    loss = objective_function(x_train.values, y_train.values, x_test.values, y_test.values, params)\n",
    "    print(\"Loss: {}\".format(loss))\n",
    "\n",
    "    if loss < current_loss:\n",
    "        best_params = params\n",
    "        current_loss = loss\n",
    "\n",
    "print(\"Best Loss: {}\".format(current_loss))\n",
    "print(\"Best params: {}\".format(best_params))"
   ]
  },
  {
   "cell_type": "code",
   "execution_count": 49,
   "metadata": {},
   "outputs": [],
   "source": [
    "# num_samples = 10\n",
    "# best_params = None\n",
    "# current_loss = 1000\n",
    "\n",
    "# for i in range(num_samples):\n",
    "#     params = {\n",
    "#         'alpha': random.randrange(0, 100) * 0.0001,\n",
    "#         'learning_rate': random.randrange(0, 100) * 0.0001\n",
    "#     }\n",
    "\n",
    "#     loss = objective_function(x_train.values, y_train.values, x_test.values, y_test.values, params)\n",
    "#     print(\"Loss: {}\".format(loss))\n",
    "\n",
    "#     if loss < current_loss:\n",
    "#         best_params = params\n",
    "#         current_loss = loss\n",
    "\n",
    "# print(\"Best Loss: {}\".format(current_loss))\n",
    "# print(\"Best params: {}\".format(best_params))"
   ]
  },
  {
   "cell_type": "code",
   "execution_count": 50,
   "metadata": {},
   "outputs": [],
   "source": [
    "# # Building my current belief\n",
    "# x_samples = []\n",
    "# y_samples = []\n",
    "\n",
    "# num_samples = 10\n",
    "# for i in range(num_samples):\n",
    "#     params = {\n",
    "#         'alpha': random.randrange(0, 100) * 0.0001,\n",
    "#         'learning_rate': random.randrange(0, 100) * 0.0001\n",
    "#     }\n",
    "\n",
    "#     loss = objective_function(x_train.values, y_train.values, x_test.values, y_test.values, params)\n",
    "#     print(\"Loss: {}\".format(loss))\n",
    "\n",
    "#     x1 = params['alpha']\n",
    "#     x2 = params['learning_rate']\n",
    "#     y = loss\n",
    "\n",
    "#     x_samples.append([x1, x2])\n",
    "#     y_samples.append([y])"
   ]
  },
  {
   "cell_type": "code",
   "execution_count": 51,
   "metadata": {},
   "outputs": [],
   "source": [
    "# x_samples"
   ]
  },
  {
   "cell_type": "code",
   "execution_count": 52,
   "metadata": {},
   "outputs": [],
   "source": [
    "# y_samples"
   ]
  },
  {
   "cell_type": "code",
   "execution_count": 53,
   "metadata": {},
   "outputs": [],
   "source": [
    "# from sklearn.gaussian_process import GaussianProcessRegressor\n",
    "# from sklearn.gaussian_process.kernels import RBF\n",
    "\n",
    "# kernel = 1 * RBF(length_scale=1.0, length_scale_bounds=(1e-2, 1e2))\n",
    "# gaussian_process = GaussianProcessRegressor(kernel=kernel, n_restarts_optimizer=9)\n",
    "# gaussian_process.fit(x_samples, y_samples)\n",
    "\n",
    "# mean, std = gaussian_process.predict(x_samples, return_std=True)"
   ]
  },
  {
   "cell_type": "code",
   "execution_count": 54,
   "metadata": {},
   "outputs": [],
   "source": [
    "# mean"
   ]
  },
  {
   "cell_type": "code",
   "execution_count": 55,
   "metadata": {},
   "outputs": [],
   "source": [
    "# std.reshape(-1, 1)"
   ]
  },
  {
   "cell_type": "code",
   "execution_count": 56,
   "metadata": {},
   "outputs": [],
   "source": [
    "# def f(params):\n",
    "#     model = MLPClassifier(\n",
    "#         random_state=1, \n",
    "#         max_iter=1000,\n",
    "#         alpha=params['alpha'],\n",
    "#         learning_rate_init=params['learning_rate']\n",
    "#     )\n",
    "    \n",
    "#     model.fit(x_train.values, y_train.values)\n",
    "\n",
    "#     predictions = model.predict(x_test.values)\n",
    "\n",
    "#     score = mean_squared_error(predictions, y_test.values)\n",
    "    \n",
    "#     return score"
   ]
  },
  {
   "cell_type": "code",
   "execution_count": 57,
   "metadata": {},
   "outputs": [],
   "source": [
    "# from hyperopt import hp, fmin, tpe\n",
    "\n",
    "# params_list = {\n",
    "#     'alpha': hp.uniform('alpha', 0.001, 0.01),\n",
    "#     'learning_rate': hp.uniform('learning_rate', 0.0001, 0.001)\n",
    "# }\n",
    "\n",
    "# best_params = fmin(fn=f, space=params_list, max_evals=24, algo=tpe.suggest)\n",
    "\n",
    "# best_params"
   ]
  },
  {
   "attachments": {},
   "cell_type": "markdown",
   "metadata": {},
   "source": [
    "We will generate a new model with `alpha` = 0.00892828343812932 and `learning_rate` = 0.000831317050747746"
   ]
  },
  {
   "cell_type": "markdown",
   "metadata": {},
   "source": []
  }
 ],
 "metadata": {
  "kernelspec": {
   "display_name": "env",
   "language": "python",
   "name": "python3"
  },
  "language_info": {
   "codemirror_mode": {
    "name": "ipython",
    "version": 3
   },
   "file_extension": ".py",
   "mimetype": "text/x-python",
   "name": "python",
   "nbconvert_exporter": "python",
   "pygments_lexer": "ipython3",
   "version": "3.10.7 (tags/v3.10.7:6cc6b13, Sep  5 2022, 14:08:36) [MSC v.1933 64 bit (AMD64)]"
  },
  "orig_nbformat": 4,
  "vscode": {
   "interpreter": {
    "hash": "d436f61485600065bbd78f0914ccd3502a94e56b5aeca30a275664867d5d71ca"
   }
  }
 },
 "nbformat": 4,
 "nbformat_minor": 2
}
