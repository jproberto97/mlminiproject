{
 "cells": [
  {
   "cell_type": "code",
   "execution_count": 17,
   "metadata": {},
   "outputs": [],
   "source": [
    "import pandas as pd\n",
    "from sklearn.metrics import confusion_matrix\n",
    "from sklearn.metrics import classification_report\n",
    "from sklearn.model_selection import train_test_split\n",
    "import math\n",
    "import numpy as np\n",
    "from sklearn.metrics import accuracy_score\n",
    "from sklearn.neural_network import MLPClassifier\n",
    "from sklearn.metrics import mean_squared_error\n",
    "import random"
   ]
  },
  {
   "attachments": {},
   "cell_type": "markdown",
   "metadata": {},
   "source": [
    "### Open Drugs Dataset and Assign Predictor and Target Variables\n"
   ]
  },
  {
   "cell_type": "code",
   "execution_count": 18,
   "metadata": {},
   "outputs": [
    {
     "data": {
      "text/html": [
       "<div>\n",
       "<style scoped>\n",
       "    .dataframe tbody tr th:only-of-type {\n",
       "        vertical-align: middle;\n",
       "    }\n",
       "\n",
       "    .dataframe tbody tr th {\n",
       "        vertical-align: top;\n",
       "    }\n",
       "\n",
       "    .dataframe thead th {\n",
       "        text-align: right;\n",
       "    }\n",
       "</style>\n",
       "<table border=\"1\" class=\"dataframe\">\n",
       "  <thead>\n",
       "    <tr style=\"text-align: right;\">\n",
       "      <th></th>\n",
       "      <th>Age</th>\n",
       "      <th>Na_to_K</th>\n",
       "      <th>Sex_F</th>\n",
       "      <th>Sex_M</th>\n",
       "      <th>BP_HIGH</th>\n",
       "      <th>BP_LOW</th>\n",
       "      <th>BP_NORMAL</th>\n",
       "      <th>Cholesterol_HIGH</th>\n",
       "      <th>Cholesterol_NORMAL</th>\n",
       "    </tr>\n",
       "  </thead>\n",
       "  <tbody>\n",
       "    <tr>\n",
       "      <th>0</th>\n",
       "      <td>0.542373</td>\n",
       "      <td>0.155887</td>\n",
       "      <td>1.0</td>\n",
       "      <td>0.0</td>\n",
       "      <td>0.0</td>\n",
       "      <td>1.0</td>\n",
       "      <td>0.0</td>\n",
       "      <td>1.0</td>\n",
       "      <td>0.0</td>\n",
       "    </tr>\n",
       "    <tr>\n",
       "      <th>1</th>\n",
       "      <td>0.288136</td>\n",
       "      <td>0.000000</td>\n",
       "      <td>1.0</td>\n",
       "      <td>0.0</td>\n",
       "      <td>0.0</td>\n",
       "      <td>0.0</td>\n",
       "      <td>1.0</td>\n",
       "      <td>1.0</td>\n",
       "      <td>0.0</td>\n",
       "    </tr>\n",
       "    <tr>\n",
       "      <th>2</th>\n",
       "      <td>0.983051</td>\n",
       "      <td>0.426744</td>\n",
       "      <td>1.0</td>\n",
       "      <td>0.0</td>\n",
       "      <td>0.0</td>\n",
       "      <td>0.0</td>\n",
       "      <td>1.0</td>\n",
       "      <td>1.0</td>\n",
       "      <td>0.0</td>\n",
       "    </tr>\n",
       "    <tr>\n",
       "      <th>3</th>\n",
       "      <td>0.677966</td>\n",
       "      <td>0.127180</td>\n",
       "      <td>1.0</td>\n",
       "      <td>0.0</td>\n",
       "      <td>1.0</td>\n",
       "      <td>0.0</td>\n",
       "      <td>0.0</td>\n",
       "      <td>1.0</td>\n",
       "      <td>0.0</td>\n",
       "    </tr>\n",
       "    <tr>\n",
       "      <th>4</th>\n",
       "      <td>0.508475</td>\n",
       "      <td>0.032449</td>\n",
       "      <td>0.0</td>\n",
       "      <td>1.0</td>\n",
       "      <td>0.0</td>\n",
       "      <td>1.0</td>\n",
       "      <td>0.0</td>\n",
       "      <td>0.0</td>\n",
       "      <td>1.0</td>\n",
       "    </tr>\n",
       "  </tbody>\n",
       "</table>\n",
       "</div>"
      ],
      "text/plain": [
       "        Age   Na_to_K  Sex_F  Sex_M  BP_HIGH  BP_LOW  BP_NORMAL  \\\n",
       "0  0.542373  0.155887    1.0    0.0      0.0     1.0        0.0   \n",
       "1  0.288136  0.000000    1.0    0.0      0.0     0.0        1.0   \n",
       "2  0.983051  0.426744    1.0    0.0      0.0     0.0        1.0   \n",
       "3  0.677966  0.127180    1.0    0.0      1.0     0.0        0.0   \n",
       "4  0.508475  0.032449    0.0    1.0      0.0     1.0        0.0   \n",
       "\n",
       "   Cholesterol_HIGH  Cholesterol_NORMAL  \n",
       "0               1.0                 0.0  \n",
       "1               1.0                 0.0  \n",
       "2               1.0                 0.0  \n",
       "3               1.0                 0.0  \n",
       "4               0.0                 1.0  "
      ]
     },
     "execution_count": 18,
     "metadata": {},
     "output_type": "execute_result"
    }
   ],
   "source": [
    "x = pd.read_csv(\"x_train_drugs.csv\")\n",
    "x_normalized = (x - x.min()) / (x.max() - x.min())\n",
    "x_normalized.head()"
   ]
  },
  {
   "cell_type": "code",
   "execution_count": 19,
   "metadata": {},
   "outputs": [
    {
     "data": {
      "text/html": [
       "<div>\n",
       "<style scoped>\n",
       "    .dataframe tbody tr th:only-of-type {\n",
       "        vertical-align: middle;\n",
       "    }\n",
       "\n",
       "    .dataframe tbody tr th {\n",
       "        vertical-align: top;\n",
       "    }\n",
       "\n",
       "    .dataframe thead th {\n",
       "        text-align: right;\n",
       "    }\n",
       "</style>\n",
       "<table border=\"1\" class=\"dataframe\">\n",
       "  <thead>\n",
       "    <tr style=\"text-align: right;\">\n",
       "      <th></th>\n",
       "      <th>Drug_DrugY</th>\n",
       "      <th>Drug_drugA</th>\n",
       "      <th>Drug_drugB</th>\n",
       "      <th>Drug_drugC</th>\n",
       "    </tr>\n",
       "  </thead>\n",
       "  <tbody>\n",
       "    <tr>\n",
       "      <th>0</th>\n",
       "      <td>0</td>\n",
       "      <td>0</td>\n",
       "      <td>0</td>\n",
       "      <td>1</td>\n",
       "    </tr>\n",
       "    <tr>\n",
       "      <th>1</th>\n",
       "      <td>0</td>\n",
       "      <td>0</td>\n",
       "      <td>0</td>\n",
       "      <td>0</td>\n",
       "    </tr>\n",
       "    <tr>\n",
       "      <th>2</th>\n",
       "      <td>1</td>\n",
       "      <td>0</td>\n",
       "      <td>0</td>\n",
       "      <td>0</td>\n",
       "    </tr>\n",
       "    <tr>\n",
       "      <th>3</th>\n",
       "      <td>0</td>\n",
       "      <td>0</td>\n",
       "      <td>1</td>\n",
       "      <td>0</td>\n",
       "    </tr>\n",
       "    <tr>\n",
       "      <th>4</th>\n",
       "      <td>0</td>\n",
       "      <td>0</td>\n",
       "      <td>0</td>\n",
       "      <td>0</td>\n",
       "    </tr>\n",
       "  </tbody>\n",
       "</table>\n",
       "</div>"
      ],
      "text/plain": [
       "   Drug_DrugY  Drug_drugA  Drug_drugB  Drug_drugC\n",
       "0           0           0           0           1\n",
       "1           0           0           0           0\n",
       "2           1           0           0           0\n",
       "3           0           0           1           0\n",
       "4           0           0           0           0"
      ]
     },
     "execution_count": 19,
     "metadata": {},
     "output_type": "execute_result"
    }
   ],
   "source": [
    "## Since y is already one-hot encoded, no need to get dummies\n",
    "y = pd.read_csv(\"y_train_drugs.csv\")\n",
    "y.head()"
   ]
  },
  {
   "cell_type": "code",
   "execution_count": 20,
   "metadata": {},
   "outputs": [
    {
     "name": "stdout",
     "output_type": "stream",
     "text": [
      "Len Input: 9\n",
      "Len Output: 4\n"
     ]
    }
   ],
   "source": [
    "x_train, x_test, y_train, y_test = train_test_split(x_normalized, y, test_size=0.3)\n",
    "\n",
    "len_input = len(x_train.columns)\n",
    "len_output = len(y_train.columns)\n",
    "\n",
    "print(\"Len Input: {}\".format(len_input))\n",
    "print(\"Len Output: {}\".format(len_output))"
   ]
  },
  {
   "cell_type": "code",
   "execution_count": 21,
   "metadata": {},
   "outputs": [],
   "source": [
    "def objective_function(x, y, x_validation, y_validation, params):\n",
    "    model = MLPClassifier(\n",
    "        random_state=1, \n",
    "        max_iter=1000,\n",
    "        alpha=params['alpha'],\n",
    "        learning_rate_init=params['learning_rate']\n",
    "    )\n",
    "\n",
    "    model.fit(x, y)\n",
    "\n",
    "    predictions = model.predict(x_validation)\n",
    "\n",
    "    return mean_squared_error(predictions, y_validation)"
   ]
  },
  {
   "cell_type": "code",
   "execution_count": 22,
   "metadata": {},
   "outputs": [],
   "source": [
    "grid_parameters = [\n",
    "    { 'alpha': 0.002, 'learning_rate': 0.01 },\n",
    "    { 'alpha': 0.003, 'learning_rate': 0.009 },\n",
    "    { 'alpha': 0.004, 'learning_rate': 0.008 },\n",
    "    { 'alpha': 0.005, 'learning_rate': 0.007 },\n",
    "    { 'alpha': 0.006, 'learning_rate': 0.006 },\n",
    "    { 'alpha': 0.007, 'learning_rate': 0.005 },\n",
    "    { 'alpha': 0.008, 'learning_rate': 0.004 },\n",
    "    { 'alpha': 0.009, 'learning_rate': 0.003 },\n",
    "    { 'alpha': 0.002, 'learning_rate': 0.003 },\n",
    "    { 'alpha': 0.003, 'learning_rate': 0.004 },\n",
    "    { 'alpha': 0.004, 'learning_rate': 0.005 },\n",
    "    { 'alpha': 0.005, 'learning_rate': 0.006 },\n",
    "    { 'alpha': 0.006, 'learning_rate': 0.007 },\n",
    "    { 'alpha': 0.007, 'learning_rate': 0.008 },\n",
    "    { 'alpha': 0.008, 'learning_rate': 0.009 },\n",
    "    { 'alpha': 0.009, 'learning_rate': 0.01 }\n",
    "]"
   ]
  },
  {
   "cell_type": "code",
   "execution_count": 23,
   "metadata": {},
   "outputs": [
    {
     "name": "stdout",
     "output_type": "stream",
     "text": [
      "Loss: 0.04464285714285714\n",
      "Loss: 0.03571428571428571\n",
      "Loss: 0.04464285714285714\n",
      "Loss: 0.04464285714285714\n",
      "Loss: 0.04464285714285714\n",
      "Loss: 0.03571428571428571\n",
      "Loss: 0.026785714285714284\n",
      "Loss: 0.026785714285714284\n",
      "Loss: 0.026785714285714284\n",
      "Loss: 0.026785714285714284\n",
      "Loss: 0.03571428571428571\n",
      "Loss: 0.04464285714285714\n",
      "Loss: 0.04464285714285714\n",
      "Loss: 0.03571428571428571\n",
      "Loss: 0.03571428571428571\n",
      "Loss: 0.03571428571428571\n",
      "Best Loss: 0.026785714285714284\n",
      "Best params: {'alpha': 0.008, 'learning_rate': 0.004}\n"
     ]
    }
   ],
   "source": [
    "best_params = None\n",
    "current_loss = 1000\n",
    "\n",
    "for params in grid_parameters:\n",
    "    loss = objective_function(x_train.values, y_train.values, x_test.values, y_test.values, params)\n",
    "    print(\"Loss: {}\".format(loss))\n",
    "\n",
    "    if loss < current_loss:\n",
    "        best_params = params\n",
    "        current_loss = loss\n",
    "\n",
    "print(\"Best Loss: {}\".format(current_loss))\n",
    "print(\"Best params: {}\".format(best_params))"
   ]
  },
  {
   "cell_type": "code",
   "execution_count": 24,
   "metadata": {},
   "outputs": [
    {
     "name": "stdout",
     "output_type": "stream",
     "text": [
      "Loss: 0.03571428571428571\n",
      "Loss: 0.03571428571428571\n",
      "Loss: 0.026785714285714284\n"
     ]
    },
    {
     "name": "stderr",
     "output_type": "stream",
     "text": [
      "c:\\Users\\APONCE\\Desktop\\group\\mlminiproject\\env\\lib\\site-packages\\sklearn\\neural_network\\_multilayer_perceptron.py:679: ConvergenceWarning: Stochastic Optimizer: Maximum iterations (1000) reached and the optimization hasn't converged yet.\n",
      "  warnings.warn(\n"
     ]
    },
    {
     "name": "stdout",
     "output_type": "stream",
     "text": [
      "Loss: 0.04464285714285714\n",
      "Loss: 0.026785714285714284\n",
      "Loss: 0.03571428571428571\n",
      "Loss: 0.04464285714285714\n",
      "Loss: 0.03571428571428571\n"
     ]
    },
    {
     "name": "stderr",
     "output_type": "stream",
     "text": [
      "c:\\Users\\APONCE\\Desktop\\group\\mlminiproject\\env\\lib\\site-packages\\sklearn\\neural_network\\_multilayer_perceptron.py:679: ConvergenceWarning: Stochastic Optimizer: Maximum iterations (1000) reached and the optimization hasn't converged yet.\n",
      "  warnings.warn(\n"
     ]
    },
    {
     "name": "stdout",
     "output_type": "stream",
     "text": [
      "Loss: 0.10714285714285712\n",
      "Loss: 0.03571428571428571\n",
      "Best Loss: 0.026785714285714284\n",
      "Best params: {'alpha': 0.0076, 'learning_rate': 0.0031000000000000003}\n"
     ]
    }
   ],
   "source": [
    "# num_samples = 10\n",
    "# best_params = None\n",
    "# current_loss = 1000\n",
    "\n",
    "# for i in range(num_samples):\n",
    "#     params = {\n",
    "#         'alpha': random.randrange(0, 100) * 0.0001,\n",
    "#         'learning_rate': random.randrange(0, 100) * 0.0001\n",
    "#     }\n",
    "\n",
    "#     loss = objective_function(x_train.values, y_train.values, x_test.values, y_test.values, params)\n",
    "#     print(\"Loss: {}\".format(loss))\n",
    "\n",
    "#     if loss < current_loss:\n",
    "#         best_params = params\n",
    "#         current_loss = loss\n",
    "\n",
    "# print(\"Best Loss: {}\".format(current_loss))\n",
    "# print(\"Best params: {}\".format(best_params))"
   ]
  },
  {
   "cell_type": "code",
   "execution_count": 25,
   "metadata": {},
   "outputs": [
    {
     "name": "stdout",
     "output_type": "stream",
     "text": [
      "Loss: 0.03571428571428571\n",
      "Loss: 0.03571428571428571\n",
      "Loss: 0.03571428571428571\n",
      "Loss: 0.03571428571428571\n"
     ]
    },
    {
     "name": "stderr",
     "output_type": "stream",
     "text": [
      "c:\\Users\\APONCE\\Desktop\\group\\mlminiproject\\env\\lib\\site-packages\\sklearn\\neural_network\\_multilayer_perceptron.py:679: ConvergenceWarning: Stochastic Optimizer: Maximum iterations (1000) reached and the optimization hasn't converged yet.\n",
      "  warnings.warn(\n"
     ]
    },
    {
     "name": "stdout",
     "output_type": "stream",
     "text": [
      "Loss: 0.04464285714285714\n",
      "Loss: 0.026785714285714284\n"
     ]
    },
    {
     "name": "stderr",
     "output_type": "stream",
     "text": [
      "c:\\Users\\APONCE\\Desktop\\group\\mlminiproject\\env\\lib\\site-packages\\sklearn\\neural_network\\_multilayer_perceptron.py:679: ConvergenceWarning: Stochastic Optimizer: Maximum iterations (1000) reached and the optimization hasn't converged yet.\n",
      "  warnings.warn(\n"
     ]
    },
    {
     "name": "stdout",
     "output_type": "stream",
     "text": [
      "Loss: 0.04464285714285714\n",
      "Loss: 0.026785714285714284\n"
     ]
    },
    {
     "name": "stderr",
     "output_type": "stream",
     "text": [
      "c:\\Users\\APONCE\\Desktop\\group\\mlminiproject\\env\\lib\\site-packages\\sklearn\\neural_network\\_multilayer_perceptron.py:679: ConvergenceWarning: Stochastic Optimizer: Maximum iterations (1000) reached and the optimization hasn't converged yet.\n",
      "  warnings.warn(\n"
     ]
    },
    {
     "name": "stdout",
     "output_type": "stream",
     "text": [
      "Loss: 0.04464285714285714\n",
      "Loss: 0.04464285714285714\n"
     ]
    },
    {
     "name": "stderr",
     "output_type": "stream",
     "text": [
      "c:\\Users\\APONCE\\Desktop\\group\\mlminiproject\\env\\lib\\site-packages\\sklearn\\neural_network\\_multilayer_perceptron.py:679: ConvergenceWarning: Stochastic Optimizer: Maximum iterations (1000) reached and the optimization hasn't converged yet.\n",
      "  warnings.warn(\n"
     ]
    }
   ],
   "source": [
    "# # Building my current belief\n",
    "# x_samples = []\n",
    "# y_samples = []\n",
    "\n",
    "# num_samples = 10\n",
    "# for i in range(num_samples):\n",
    "#     params = {\n",
    "#         'alpha': random.randrange(0, 100) * 0.0001,\n",
    "#         'learning_rate': random.randrange(0, 100) * 0.0001\n",
    "#     }\n",
    "\n",
    "#     loss = objective_function(x_train.values, y_train.values, x_test.values, y_test.values, params)\n",
    "#     print(\"Loss: {}\".format(loss))\n",
    "\n",
    "#     x1 = params['alpha']\n",
    "#     x2 = params['learning_rate']\n",
    "#     y = loss\n",
    "\n",
    "#     x_samples.append([x1, x2])\n",
    "#     y_samples.append([y])"
   ]
  },
  {
   "cell_type": "code",
   "execution_count": 26,
   "metadata": {},
   "outputs": [
    {
     "data": {
      "text/plain": [
       "[[0.007, 0.0073],\n",
       " [0.0061, 0.006200000000000001],\n",
       " [0.0066, 0.0017000000000000001],\n",
       " [0.0079, 0.0017000000000000001],\n",
       " [0.0045000000000000005, 0.0007],\n",
       " [0.0089, 0.0038],\n",
       " [0.0024000000000000002, 0.0011],\n",
       " [0.0078000000000000005, 0.0032],\n",
       " [0.0036000000000000003, 0.0011],\n",
       " [0.0067, 0.0007]]"
      ]
     },
     "execution_count": 26,
     "metadata": {},
     "output_type": "execute_result"
    }
   ],
   "source": [
    "# x_samples"
   ]
  },
  {
   "cell_type": "code",
   "execution_count": 27,
   "metadata": {},
   "outputs": [
    {
     "data": {
      "text/plain": [
       "[[0.03571428571428571],\n",
       " [0.03571428571428571],\n",
       " [0.03571428571428571],\n",
       " [0.03571428571428571],\n",
       " [0.04464285714285714],\n",
       " [0.026785714285714284],\n",
       " [0.04464285714285714],\n",
       " [0.026785714285714284],\n",
       " [0.04464285714285714],\n",
       " [0.04464285714285714]]"
      ]
     },
     "execution_count": 27,
     "metadata": {},
     "output_type": "execute_result"
    }
   ],
   "source": [
    "# y_samples"
   ]
  },
  {
   "cell_type": "code",
   "execution_count": 28,
   "metadata": {},
   "outputs": [
    {
     "name": "stderr",
     "output_type": "stream",
     "text": [
      "c:\\Users\\APONCE\\Desktop\\group\\mlminiproject\\env\\lib\\site-packages\\sklearn\\gaussian_process\\_gpr.py:629: ConvergenceWarning: lbfgs failed to converge (status=2):\n",
      "ABNORMAL_TERMINATION_IN_LNSRCH.\n",
      "\n",
      "Increase the number of iterations (max_iter) or scale the data as shown in:\n",
      "    https://scikit-learn.org/stable/modules/preprocessing.html\n",
      "  _check_optimize_result(\"lbfgs\", opt_res)\n",
      "c:\\Users\\APONCE\\Desktop\\group\\mlminiproject\\env\\lib\\site-packages\\sklearn\\gaussian_process\\kernels.py:420: ConvergenceWarning: The optimal value found for dimension 0 of parameter k2__length_scale is close to the specified lower bound 0.01. Decreasing the bound and calling fit again may find a better value.\n",
      "  warnings.warn(\n"
     ]
    }
   ],
   "source": [
    "# from sklearn.gaussian_process import GaussianProcessRegressor\n",
    "# from sklearn.gaussian_process.kernels import RBF\n",
    "\n",
    "# kernel = 1 * RBF(length_scale=1.0, length_scale_bounds=(1e-2, 1e2))\n",
    "# gaussian_process = GaussianProcessRegressor(kernel=kernel, n_restarts_optimizer=9)\n",
    "# gaussian_process.fit(x_samples, y_samples)\n",
    "\n",
    "# mean, std = gaussian_process.predict(x_samples, return_std=True)"
   ]
  },
  {
   "cell_type": "code",
   "execution_count": 29,
   "metadata": {},
   "outputs": [
    {
     "data": {
      "text/plain": [
       "array([0.03571427, 0.03571432, 0.0357147 , 0.03571437, 0.04464323,\n",
       "       0.02678579, 0.04464304, 0.02678543, 0.04464231, 0.04464253])"
      ]
     },
     "execution_count": 29,
     "metadata": {},
     "output_type": "execute_result"
    }
   ],
   "source": [
    "# mean"
   ]
  },
  {
   "cell_type": "code",
   "execution_count": 30,
   "metadata": {},
   "outputs": [
    {
     "data": {
      "text/plain": [
       "array([[9.99998445e-06],\n",
       "       [9.99995878e-06],\n",
       "       [9.99753056e-06],\n",
       "       [9.99974853e-06],\n",
       "       [9.99902962e-06],\n",
       "       [9.99971730e-06],\n",
       "       [9.99971383e-06],\n",
       "       [9.99840087e-06],\n",
       "       [9.99770338e-06],\n",
       "       [9.99915314e-06]])"
      ]
     },
     "execution_count": 30,
     "metadata": {},
     "output_type": "execute_result"
    }
   ],
   "source": [
    "# std.reshape(-1, 1)"
   ]
  },
  {
   "cell_type": "code",
   "execution_count": 31,
   "metadata": {},
   "outputs": [],
   "source": [
    "# def f(params):\n",
    "#     model = MLPClassifier(\n",
    "#         random_state=1, \n",
    "#         max_iter=1000,\n",
    "#         alpha=params['alpha'],\n",
    "#         learning_rate_init=params['learning_rate']\n",
    "#     )\n",
    "    \n",
    "#     model.fit(x_train.values, y_train.values)\n",
    "\n",
    "#     predictions = model.predict(x_test.values)\n",
    "\n",
    "#     score = mean_squared_error(predictions, y_test.values)\n",
    "    \n",
    "#     return score"
   ]
  },
  {
   "cell_type": "code",
   "execution_count": 32,
   "metadata": {},
   "outputs": [
    {
     "name": "stdout",
     "output_type": "stream",
     "text": [
      "  4%|▍         | 1/24 [00:01<00:29,  1.26s/trial, best loss: 0.04464285714285714]"
     ]
    },
    {
     "name": "stderr",
     "output_type": "stream",
     "text": [
      "c:\\Users\\APONCE\\Desktop\\group\\mlminiproject\\env\\lib\\site-packages\\sklearn\\neural_network\\_multilayer_perceptron.py:679: ConvergenceWarning: Stochastic Optimizer: Maximum iterations (1000) reached and the optimization hasn't converged yet.\n",
      "  warnings.warn(\n",
      "\n"
     ]
    },
    {
     "name": "stdout",
     "output_type": "stream",
     "text": [
      "  8%|▊         | 2/24 [00:03<00:35,  1.63s/trial, best loss: 0.04464285714285714]"
     ]
    },
    {
     "name": "stderr",
     "output_type": "stream",
     "text": [
      "c:\\Users\\APONCE\\Desktop\\group\\mlminiproject\\env\\lib\\site-packages\\sklearn\\neural_network\\_multilayer_perceptron.py:679: ConvergenceWarning: Stochastic Optimizer: Maximum iterations (1000) reached and the optimization hasn't converged yet.\n",
      "  warnings.warn(\n",
      "\n"
     ]
    },
    {
     "name": "stdout",
     "output_type": "stream",
     "text": [
      " 12%|█▎        | 3/24 [00:04<00:33,  1.59s/trial, best loss: 0.04464285714285714]"
     ]
    },
    {
     "name": "stderr",
     "output_type": "stream",
     "text": [
      "c:\\Users\\APONCE\\Desktop\\group\\mlminiproject\\env\\lib\\site-packages\\sklearn\\neural_network\\_multilayer_perceptron.py:679: ConvergenceWarning: Stochastic Optimizer: Maximum iterations (1000) reached and the optimization hasn't converged yet.\n",
      "  warnings.warn(\n",
      "\n"
     ]
    },
    {
     "name": "stdout",
     "output_type": "stream",
     "text": [
      " 17%|█▋        | 4/24 [00:06<00:34,  1.74s/trial, best loss: 0.04464285714285714]"
     ]
    },
    {
     "name": "stderr",
     "output_type": "stream",
     "text": [
      "c:\\Users\\APONCE\\Desktop\\group\\mlminiproject\\env\\lib\\site-packages\\sklearn\\neural_network\\_multilayer_perceptron.py:679: ConvergenceWarning: Stochastic Optimizer: Maximum iterations (1000) reached and the optimization hasn't converged yet.\n",
      "  warnings.warn(\n",
      "\n"
     ]
    },
    {
     "name": "stdout",
     "output_type": "stream",
     "text": [
      " 21%|██        | 5/24 [00:08<00:30,  1.62s/trial, best loss: 0.04464285714285714]"
     ]
    },
    {
     "name": "stderr",
     "output_type": "stream",
     "text": [
      "c:\\Users\\APONCE\\Desktop\\group\\mlminiproject\\env\\lib\\site-packages\\sklearn\\neural_network\\_multilayer_perceptron.py:679: ConvergenceWarning: Stochastic Optimizer: Maximum iterations (1000) reached and the optimization hasn't converged yet.\n",
      "  warnings.warn(\n",
      "\n"
     ]
    },
    {
     "name": "stdout",
     "output_type": "stream",
     "text": [
      " 25%|██▌       | 6/24 [00:09<00:29,  1.64s/trial, best loss: 0.04464285714285714]"
     ]
    },
    {
     "name": "stderr",
     "output_type": "stream",
     "text": [
      "c:\\Users\\APONCE\\Desktop\\group\\mlminiproject\\env\\lib\\site-packages\\sklearn\\neural_network\\_multilayer_perceptron.py:679: ConvergenceWarning: Stochastic Optimizer: Maximum iterations (1000) reached and the optimization hasn't converged yet.\n",
      "  warnings.warn(\n",
      "\n"
     ]
    },
    {
     "name": "stdout",
     "output_type": "stream",
     "text": [
      " 29%|██▉       | 7/24 [00:10<00:24,  1.45s/trial, best loss: 0.04464285714285714]"
     ]
    },
    {
     "name": "stderr",
     "output_type": "stream",
     "text": [
      "c:\\Users\\APONCE\\Desktop\\group\\mlminiproject\\env\\lib\\site-packages\\sklearn\\neural_network\\_multilayer_perceptron.py:679: ConvergenceWarning: Stochastic Optimizer: Maximum iterations (1000) reached and the optimization hasn't converged yet.\n",
      "  warnings.warn(\n",
      "\n"
     ]
    },
    {
     "name": "stdout",
     "output_type": "stream",
     "text": [
      " 33%|███▎      | 8/24 [00:12<00:24,  1.50s/trial, best loss: 0.04464285714285714]"
     ]
    },
    {
     "name": "stderr",
     "output_type": "stream",
     "text": [
      "c:\\Users\\APONCE\\Desktop\\group\\mlminiproject\\env\\lib\\site-packages\\sklearn\\neural_network\\_multilayer_perceptron.py:679: ConvergenceWarning: Stochastic Optimizer: Maximum iterations (1000) reached and the optimization hasn't converged yet.\n",
      "  warnings.warn(\n",
      "\n"
     ]
    },
    {
     "name": "stdout",
     "output_type": "stream",
     "text": [
      " 38%|███▊      | 9/24 [00:14<00:23,  1.60s/trial, best loss: 0.04464285714285714]"
     ]
    },
    {
     "name": "stderr",
     "output_type": "stream",
     "text": [
      "c:\\Users\\APONCE\\Desktop\\group\\mlminiproject\\env\\lib\\site-packages\\sklearn\\neural_network\\_multilayer_perceptron.py:679: ConvergenceWarning: Stochastic Optimizer: Maximum iterations (1000) reached and the optimization hasn't converged yet.\n",
      "  warnings.warn(\n",
      "\n"
     ]
    },
    {
     "name": "stdout",
     "output_type": "stream",
     "text": [
      " 42%|████▏     | 10/24 [00:15<00:21,  1.54s/trial, best loss: 0.04464285714285714]"
     ]
    },
    {
     "name": "stderr",
     "output_type": "stream",
     "text": [
      "c:\\Users\\APONCE\\Desktop\\group\\mlminiproject\\env\\lib\\site-packages\\sklearn\\neural_network\\_multilayer_perceptron.py:679: ConvergenceWarning: Stochastic Optimizer: Maximum iterations (1000) reached and the optimization hasn't converged yet.\n",
      "  warnings.warn(\n",
      "\n"
     ]
    },
    {
     "name": "stdout",
     "output_type": "stream",
     "text": [
      " 46%|████▌     | 11/24 [00:17<00:19,  1.52s/trial, best loss: 0.04464285714285714]"
     ]
    },
    {
     "name": "stderr",
     "output_type": "stream",
     "text": [
      "c:\\Users\\APONCE\\Desktop\\group\\mlminiproject\\env\\lib\\site-packages\\sklearn\\neural_network\\_multilayer_perceptron.py:679: ConvergenceWarning: Stochastic Optimizer: Maximum iterations (1000) reached and the optimization hasn't converged yet.\n",
      "  warnings.warn(\n",
      "\n"
     ]
    },
    {
     "name": "stdout",
     "output_type": "stream",
     "text": [
      " 50%|█████     | 12/24 [00:18<00:18,  1.52s/trial, best loss: 0.04464285714285714]"
     ]
    },
    {
     "name": "stderr",
     "output_type": "stream",
     "text": [
      "c:\\Users\\APONCE\\Desktop\\group\\mlminiproject\\env\\lib\\site-packages\\sklearn\\neural_network\\_multilayer_perceptron.py:679: ConvergenceWarning: Stochastic Optimizer: Maximum iterations (1000) reached and the optimization hasn't converged yet.\n",
      "  warnings.warn(\n",
      "\n"
     ]
    },
    {
     "name": "stdout",
     "output_type": "stream",
     "text": [
      " 54%|█████▍    | 13/24 [00:19<00:15,  1.45s/trial, best loss: 0.04464285714285714]"
     ]
    },
    {
     "name": "stderr",
     "output_type": "stream",
     "text": [
      "c:\\Users\\APONCE\\Desktop\\group\\mlminiproject\\env\\lib\\site-packages\\sklearn\\neural_network\\_multilayer_perceptron.py:679: ConvergenceWarning: Stochastic Optimizer: Maximum iterations (1000) reached and the optimization hasn't converged yet.\n",
      "  warnings.warn(\n",
      "\n"
     ]
    },
    {
     "name": "stdout",
     "output_type": "stream",
     "text": [
      " 58%|█████▊    | 14/24 [00:21<00:14,  1.43s/trial, best loss: 0.04464285714285714]"
     ]
    },
    {
     "name": "stderr",
     "output_type": "stream",
     "text": [
      "c:\\Users\\APONCE\\Desktop\\group\\mlminiproject\\env\\lib\\site-packages\\sklearn\\neural_network\\_multilayer_perceptron.py:679: ConvergenceWarning: Stochastic Optimizer: Maximum iterations (1000) reached and the optimization hasn't converged yet.\n",
      "  warnings.warn(\n",
      "\n"
     ]
    },
    {
     "name": "stdout",
     "output_type": "stream",
     "text": [
      " 62%|██████▎   | 15/24 [00:22<00:11,  1.27s/trial, best loss: 0.04464285714285714]"
     ]
    },
    {
     "name": "stderr",
     "output_type": "stream",
     "text": [
      "c:\\Users\\APONCE\\Desktop\\group\\mlminiproject\\env\\lib\\site-packages\\sklearn\\neural_network\\_multilayer_perceptron.py:679: ConvergenceWarning: Stochastic Optimizer: Maximum iterations (1000) reached and the optimization hasn't converged yet.\n",
      "  warnings.warn(\n",
      "\n",
      "c:\\Users\\APONCE\\Desktop\\group\\mlminiproject\\env\\lib\\site-packages\\sklearn\\neural_network\\_multilayer_perceptron.py:686: UserWarning: Training interrupted by user.\n",
      "  warnings.warn(\"Training interrupted by user.\")\n",
      "\n"
     ]
    },
    {
     "name": "stdout",
     "output_type": "stream",
     "text": [
      " 71%|███████   | 17/24 [00:23<00:06,  1.12trial/s, best loss: 0.04464285714285714]"
     ]
    },
    {
     "name": "stderr",
     "output_type": "stream",
     "text": [
      "c:\\Users\\APONCE\\Desktop\\group\\mlminiproject\\env\\lib\\site-packages\\sklearn\\neural_network\\_multilayer_perceptron.py:679: ConvergenceWarning: Stochastic Optimizer: Maximum iterations (1000) reached and the optimization hasn't converged yet.\n",
      "  warnings.warn(\n",
      "\n"
     ]
    },
    {
     "name": "stdout",
     "output_type": "stream",
     "text": [
      " 75%|███████▌  | 18/24 [00:24<00:05,  1.06trial/s, best loss: 0.04464285714285714]"
     ]
    },
    {
     "name": "stderr",
     "output_type": "stream",
     "text": [
      "c:\\Users\\APONCE\\Desktop\\group\\mlminiproject\\env\\lib\\site-packages\\sklearn\\neural_network\\_multilayer_perceptron.py:679: ConvergenceWarning: Stochastic Optimizer: Maximum iterations (1000) reached and the optimization hasn't converged yet.\n",
      "  warnings.warn(\n",
      "\n"
     ]
    },
    {
     "name": "stdout",
     "output_type": "stream",
     "text": [
      " 79%|███████▉  | 19/24 [00:25<00:04,  1.09trial/s, best loss: 0.04464285714285714]"
     ]
    },
    {
     "name": "stderr",
     "output_type": "stream",
     "text": [
      "c:\\Users\\APONCE\\Desktop\\group\\mlminiproject\\env\\lib\\site-packages\\sklearn\\neural_network\\_multilayer_perceptron.py:679: ConvergenceWarning: Stochastic Optimizer: Maximum iterations (1000) reached and the optimization hasn't converged yet.\n",
      "  warnings.warn(\n",
      "\n"
     ]
    },
    {
     "name": "stdout",
     "output_type": "stream",
     "text": [
      " 83%|████████▎ | 20/24 [00:26<00:03,  1.09trial/s, best loss: 0.04464285714285714]"
     ]
    },
    {
     "name": "stderr",
     "output_type": "stream",
     "text": [
      "c:\\Users\\APONCE\\Desktop\\group\\mlminiproject\\env\\lib\\site-packages\\sklearn\\neural_network\\_multilayer_perceptron.py:679: ConvergenceWarning: Stochastic Optimizer: Maximum iterations (1000) reached and the optimization hasn't converged yet.\n",
      "  warnings.warn(\n",
      "\n"
     ]
    },
    {
     "name": "stdout",
     "output_type": "stream",
     "text": [
      " 88%|████████▊ | 21/24 [00:26<00:02,  1.13trial/s, best loss: 0.04464285714285714]"
     ]
    },
    {
     "name": "stderr",
     "output_type": "stream",
     "text": [
      "c:\\Users\\APONCE\\Desktop\\group\\mlminiproject\\env\\lib\\site-packages\\sklearn\\neural_network\\_multilayer_perceptron.py:679: ConvergenceWarning: Stochastic Optimizer: Maximum iterations (1000) reached and the optimization hasn't converged yet.\n",
      "  warnings.warn(\n",
      "\n"
     ]
    },
    {
     "name": "stdout",
     "output_type": "stream",
     "text": [
      " 92%|█████████▏| 22/24 [00:27<00:01,  1.15trial/s, best loss: 0.04464285714285714]"
     ]
    },
    {
     "name": "stderr",
     "output_type": "stream",
     "text": [
      "c:\\Users\\APONCE\\Desktop\\group\\mlminiproject\\env\\lib\\site-packages\\sklearn\\neural_network\\_multilayer_perceptron.py:679: ConvergenceWarning: Stochastic Optimizer: Maximum iterations (1000) reached and the optimization hasn't converged yet.\n",
      "  warnings.warn(\n",
      "\n"
     ]
    },
    {
     "name": "stdout",
     "output_type": "stream",
     "text": [
      " 96%|█████████▌| 23/24 [00:28<00:00,  1.17trial/s, best loss: 0.04464285714285714]"
     ]
    },
    {
     "name": "stderr",
     "output_type": "stream",
     "text": [
      "c:\\Users\\APONCE\\Desktop\\group\\mlminiproject\\env\\lib\\site-packages\\sklearn\\neural_network\\_multilayer_perceptron.py:679: ConvergenceWarning: Stochastic Optimizer: Maximum iterations (1000) reached and the optimization hasn't converged yet.\n",
      "  warnings.warn(\n",
      "\n"
     ]
    },
    {
     "name": "stdout",
     "output_type": "stream",
     "text": [
      "100%|██████████| 24/24 [00:29<00:00,  1.22s/trial, best loss: 0.04464285714285714]\n"
     ]
    },
    {
     "name": "stderr",
     "output_type": "stream",
     "text": [
      "c:\\Users\\APONCE\\Desktop\\group\\mlminiproject\\env\\lib\\site-packages\\sklearn\\neural_network\\_multilayer_perceptron.py:679: ConvergenceWarning: Stochastic Optimizer: Maximum iterations (1000) reached and the optimization hasn't converged yet.\n",
      "  warnings.warn(\n",
      "\n"
     ]
    },
    {
     "data": {
      "text/plain": [
       "{'alpha': 0.0021951728226000597, 'learning_rate': 0.00039617301534421433}"
      ]
     },
     "execution_count": 32,
     "metadata": {},
     "output_type": "execute_result"
    }
   ],
   "source": [
    "# from hyperopt import hp, fmin, tpe\n",
    "\n",
    "# params_list = {\n",
    "#     'alpha': hp.uniform('alpha', 0.001, 0.01),\n",
    "#     'learning_rate': hp.uniform('learning_rate', 0.0001, 0.001)\n",
    "# }\n",
    "\n",
    "# best_params = fmin(fn=f, space=params_list, max_evals=24, algo=tpe.suggest)\n",
    "\n",
    "# best_params"
   ]
  },
  {
   "attachments": {},
   "cell_type": "markdown",
   "metadata": {},
   "source": [
    "We will generate a new model with `alpha` = 0.003061813257693937 and `learning_rate` = 0.0008851017584001029"
   ]
  }
 ],
 "metadata": {
  "kernelspec": {
   "display_name": "env",
   "language": "python",
   "name": "python3"
  },
  "language_info": {
   "codemirror_mode": {
    "name": "ipython",
    "version": 3
   },
   "file_extension": ".py",
   "mimetype": "text/x-python",
   "name": "python",
   "nbconvert_exporter": "python",
   "pygments_lexer": "ipython3",
   "version": "3.10.7"
  },
  "orig_nbformat": 4,
  "vscode": {
   "interpreter": {
    "hash": "d436f61485600065bbd78f0914ccd3502a94e56b5aeca30a275664867d5d71ca"
   }
  }
 },
 "nbformat": 4,
 "nbformat_minor": 2
}
