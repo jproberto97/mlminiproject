{
 "cells": [
  {
   "cell_type": "code",
   "execution_count": 1,
   "metadata": {},
   "outputs": [],
   "source": [
    "import pandas as pd\n",
    "from sklearn.neural_network import MLPClassifier\n",
    "from joblib import dump, load\n",
    "from sklearn.metrics import multilabel_confusion_matrix\n",
    "from sklearn.metrics import classification_report"
   ]
  },
  {
   "cell_type": "code",
   "execution_count": 2,
   "metadata": {},
   "outputs": [],
   "source": [
    "input_model_file = \"../models/drugs_mlp.joblib\"\n",
    "input_model_hyperparam = \"../models/drugs_hyper.joblib\"\n",
    "input_test_file = \"x_test_drugs.csv\"\n",
    "input_labels_file = \"y_test_drugs.csv\"\n",
    "\n",
    "df_x = pd.read_csv(input_test_file)\n",
    "df_y = pd.read_csv(input_labels_file)\n",
    "\n",
    "x = df_x.values\n",
    "y = df_y.values"
   ]
  },
  {
   "cell_type": "code",
   "execution_count": 3,
   "metadata": {},
   "outputs": [
    {
     "data": {
      "text/plain": [
       "array([[1., 0., 0., 0.],\n",
       "       [1., 0., 0., 0.],\n",
       "       [0., 0., 1., 0.],\n",
       "       [0., 1., 0., 0.],\n",
       "       [1., 0., 0., 0.],\n",
       "       [1., 0., 0., 0.],\n",
       "       [0., 1., 0., 0.],\n",
       "       [0., 0., 1., 0.],\n",
       "       [1., 0., 0., 0.],\n",
       "       [0., 0., 0., 1.],\n",
       "       [1., 0., 0., 0.],\n",
       "       [1., 0., 0., 0.],\n",
       "       [1., 0., 0., 0.],\n",
       "       [0., 0., 1., 0.],\n",
       "       [1., 0., 0., 0.],\n",
       "       [1., 0., 0., 0.],\n",
       "       [1., 0., 0., 0.],\n",
       "       [1., 0., 0., 0.],\n",
       "       [0., 0., 1., 0.],\n",
       "       [1., 0., 0., 0.],\n",
       "       [1., 0., 0., 0.],\n",
       "       [1., 0., 0., 0.],\n",
       "       [1., 0., 0., 0.],\n",
       "       [1., 0., 0., 0.],\n",
       "       [0., 1., 0., 0.],\n",
       "       [1., 0., 0., 0.],\n",
       "       [1., 0., 0., 0.],\n",
       "       [0., 0., 0., 1.],\n",
       "       [1., 0., 0., 0.],\n",
       "       [1., 0., 0., 0.],\n",
       "       [1., 0., 0., 0.],\n",
       "       [1., 0., 0., 0.],\n",
       "       [1., 0., 0., 0.],\n",
       "       [1., 0., 0., 0.],\n",
       "       [0., 1., 0., 0.],\n",
       "       [1., 0., 0., 0.],\n",
       "       [0., 0., 1., 0.],\n",
       "       [0., 0., 0., 1.],\n",
       "       [1., 0., 0., 0.],\n",
       "       [0., 0., 1., 0.],\n",
       "       [1., 0., 0., 0.],\n",
       "       [1., 0., 0., 0.],\n",
       "       [0., 0., 0., 1.]])"
      ]
     },
     "execution_count": 3,
     "metadata": {},
     "output_type": "execute_result"
    }
   ],
   "source": [
    "# Load model\n",
    "clf = load(input_model_hyperparam)\n",
    "\n",
    "def one_hot_encoding(nd_array):\n",
    "    one_hot_encoding_predictions = nd_array\n",
    "\n",
    "    for i in range(len(nd_array)):\n",
    "        max_pred = max(nd_array[i])\n",
    "\n",
    "        for j in range(len(nd_array[i])):\n",
    "            one_hot_encoding_predictions[i][j] = 1 if nd_array[i][j] == max_pred else 0\n",
    "\n",
    "    return one_hot_encoding_predictions\n",
    "\n",
    "predictions = clf.predict_proba(x)\n",
    "\n",
    "predictions = one_hot_encoding(predictions)\n",
    "\n",
    "predictions"
   ]
  },
  {
   "cell_type": "code",
   "execution_count": 4,
   "metadata": {},
   "outputs": [
    {
     "data": {
      "text/plain": [
       "array([[[12,  9],\n",
       "        [ 2, 20]],\n",
       "\n",
       "       [[38,  1],\n",
       "        [ 1,  3]],\n",
       "\n",
       "       [[37,  3],\n",
       "        [ 0,  3]],\n",
       "\n",
       "       [[39,  2],\n",
       "        [ 0,  2]]], dtype=int64)"
      ]
     },
     "execution_count": 4,
     "metadata": {},
     "output_type": "execute_result"
    }
   ],
   "source": [
    "# Benchmark our predictions\n",
    "benchmarks = multilabel_confusion_matrix(y, predictions)\n",
    "\n",
    "benchmarks"
   ]
  },
  {
   "cell_type": "code",
   "execution_count": 5,
   "metadata": {},
   "outputs": [
    {
     "name": "stdout",
     "output_type": "stream",
     "text": [
      "              precision    recall  f1-score   support\n",
      "\n",
      "           0       0.69      0.91      0.78        22\n",
      "           1       0.75      0.75      0.75         4\n",
      "           2       0.50      1.00      0.67         3\n",
      "           3       0.50      1.00      0.67         2\n",
      "\n",
      "   micro avg       0.65      0.90      0.76        31\n",
      "   macro avg       0.61      0.91      0.72        31\n",
      "weighted avg       0.67      0.90      0.76        31\n",
      " samples avg       0.65      0.65      0.65        31\n",
      "\n"
     ]
    },
    {
     "name": "stderr",
     "output_type": "stream",
     "text": [
      "c:\\Users\\APONCE\\Desktop\\group\\mlminiproject\\env\\lib\\site-packages\\sklearn\\metrics\\_classification.py:1344: UndefinedMetricWarning: Recall and F-score are ill-defined and being set to 0.0 in samples with no true labels. Use `zero_division` parameter to control this behavior.\n",
      "  _warn_prf(average, modifier, msg_start, len(result))\n"
     ]
    }
   ],
   "source": [
    "report = classification_report(y, predictions)\n",
    "\n",
    "print(report)"
   ]
  }
 ],
 "metadata": {
  "kernelspec": {
   "display_name": "env",
   "language": "python",
   "name": "python3"
  },
  "language_info": {
   "codemirror_mode": {
    "name": "ipython",
    "version": 3
   },
   "file_extension": ".py",
   "mimetype": "text/x-python",
   "name": "python",
   "nbconvert_exporter": "python",
   "pygments_lexer": "ipython3",
   "version": "3.10.7"
  },
  "orig_nbformat": 4,
  "vscode": {
   "interpreter": {
    "hash": "d436f61485600065bbd78f0914ccd3502a94e56b5aeca30a275664867d5d71ca"
   }
  }
 },
 "nbformat": 4,
 "nbformat_minor": 2
}
