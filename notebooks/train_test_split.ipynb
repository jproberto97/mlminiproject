{
 "cells": [
  {
   "cell_type": "code",
   "execution_count": 1,
   "metadata": {},
   "outputs": [],
   "source": [
    "import pandas as pd\n",
    "from sklearn.model_selection import train_test_split"
   ]
  },
  {
   "cell_type": "code",
   "execution_count": 2,
   "metadata": {},
   "outputs": [
    {
     "name": "stdout",
     "output_type": "stream",
     "text": [
      "2952\n",
      "329\n"
     ]
    }
   ],
   "source": [
    "x = pd.read_csv(\"drugs_x_train.csv\")\n",
    "y = pd.read_csv(\"drugs_y_train.csv\")\n",
    "\n",
    "x_red = pd.read_csv(\"winequality_red_x_train.csv\")\n",
    "y_red =pd.read_csv(\"winequality_red_y_train.csv\")\n",
    "\n",
    "x_white = pd.read_csv(\"winequality_white_x_train.csv\")\n",
    "y_white =pd.read_csv(\"winequality_white_y_train.csv\")\n",
    "\n",
    "\n",
    "ratio = 0.68\n",
    "test_size = 1 - ratio\n",
    "\n",
    "ratio_red = 0.80\n",
    "test_size_red = 1 - ratio_red\n",
    "\n",
    "ratio_white = 0.90\n",
    "test_size_white = 1 - ratio_white\n",
    "\n",
    "x_train, x_test, y_train, y_test = train_test_split(x, y, test_size=test_size, random_state=0)\n",
    "x_train_red, x_test_red, y_train_red, y_test_red = train_test_split(x_red, y_red, test_size=test_size_red, random_state=0)\n",
    "x_train_white, x_test_white, y_train_white, y_test_white = train_test_split(x_white, y_white, test_size=test_size_white, random_state=0)\n",
    "\n",
    "print(len(y_train_white))\n",
    "print(len(y_test_white))\n"
   ]
  },
  {
   "cell_type": "code",
   "execution_count": 3,
   "metadata": {},
   "outputs": [],
   "source": [
    "x_train.to_csv('x_train_drugs.csv', index=False)\n",
    "x_test.to_csv('x_test_drugs.csv', index=False)\n",
    "y_train.to_csv('y_train_drugs.csv', index=False)\n",
    "y_test.to_csv('y_test_drugs.csv', index=False)\n",
    "\n",
    "\n",
    "x_train_red.to_csv('x_train_red.csv', index=False)\n",
    "x_test_red.to_csv('x_test_red.csv', index=False)\n",
    "y_train_red.to_csv('y_train_red.csv', index=False)\n",
    "y_test_red.to_csv('y_test_red.csv', index=False)\n",
    "\n",
    "x_train_white.to_csv('x_train_white.csv', index=False)\n",
    "x_test_white.to_csv('x_test_white.csv', index=False)\n",
    "y_train_white.to_csv('y_train_white.csv', index=False)\n",
    "y_test_white.to_csv('y_test_white.csv', index=False)"
   ]
  }
 ],
 "metadata": {
  "kernelspec": {
   "display_name": "Python 3.10.7 ('env': venv)",
   "language": "python",
   "name": "python3"
  },
  "language_info": {
   "codemirror_mode": {
    "name": "ipython",
    "version": 3
   },
   "file_extension": ".py",
   "mimetype": "text/x-python",
   "name": "python",
   "nbconvert_exporter": "python",
   "pygments_lexer": "ipython3",
   "version": "3.10.7"
  },
  "orig_nbformat": 4,
  "vscode": {
   "interpreter": {
    "hash": "d436f61485600065bbd78f0914ccd3502a94e56b5aeca30a275664867d5d71ca"
   }
  }
 },
 "nbformat": 4,
 "nbformat_minor": 2
}
