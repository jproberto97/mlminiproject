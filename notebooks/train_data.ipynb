{
 "cells": [
  {
   "cell_type": "code",
   "execution_count": 1,
   "metadata": {},
   "outputs": [],
   "source": [
    "import pandas as pd\n",
    "from sklearn.neural_network import MLPClassifier\n",
    "from joblib import dump, load"
   ]
  },
  {
   "cell_type": "code",
   "execution_count": 2,
   "metadata": {},
   "outputs": [],
   "source": [
    "input_x_train_file = \"x_train_drugs.csv\"\n",
    "input_y_train_file = \"y_train_drugs.csv\"\n",
    "\n",
    "input_x_train_file_red = \"x_train_red.csv\"\n",
    "input_y_train_file_red = \"y_train_red.csv\"\n",
    "\n",
    "input_x_train_file_white = \"x_train_white.csv\"\n",
    "input_y_train_file_white = \"y_train_white.csv\"\n",
    "\n",
    "df_x = pd.read_csv(input_x_train_file)\n",
    "df_y = pd.read_csv(input_y_train_file)\n",
    "\n",
    "df_x_red = pd.read_csv(input_x_train_file_red)\n",
    "df_y_red = pd.read_csv(input_y_train_file_red)\n",
    "\n",
    "df_x_white = pd.read_csv(input_x_train_file_white)\n",
    "df_y_white = pd.read_csv(input_y_train_file_white)\n",
    "\n",
    "x = df_x.values\n",
    "y = df_y.values\n",
    "\n",
    "x_red = df_x_red.values\n",
    "y_red = df_y_red.values\n",
    "\n",
    "x_white = df_x_white.values\n",
    "y_white = df_y_white.values"
   ]
  },
  {
   "cell_type": "code",
   "execution_count": 3,
   "metadata": {},
   "outputs": [
    {
     "name": "stderr",
     "output_type": "stream",
     "text": [
      "c:\\Users\\APONCE\\Desktop\\group\\mlminiproject\\env\\lib\\site-packages\\sklearn\\neural_network\\_multilayer_perceptron.py:679: ConvergenceWarning: Stochastic Optimizer: Maximum iterations (300) reached and the optimization hasn't converged yet.\n",
      "  warnings.warn(\n",
      "c:\\Users\\APONCE\\Desktop\\group\\mlminiproject\\env\\lib\\site-packages\\sklearn\\neural_network\\_multilayer_perceptron.py:679: ConvergenceWarning: Stochastic Optimizer: Maximum iterations (300) reached and the optimization hasn't converged yet.\n",
      "  warnings.warn(\n",
      "c:\\Users\\APONCE\\Desktop\\group\\mlminiproject\\env\\lib\\site-packages\\sklearn\\neural_network\\_multilayer_perceptron.py:679: ConvergenceWarning: Stochastic Optimizer: Maximum iterations (300) reached and the optimization hasn't converged yet.\n",
      "  warnings.warn(\n"
     ]
    },
    {
     "data": {
      "text/plain": [
       "['../models/white_mlp.joblib']"
      ]
     },
     "execution_count": 3,
     "metadata": {},
     "output_type": "execute_result"
    }
   ],
   "source": [
    "clf = MLPClassifier(random_state=1, max_iter=300)\n",
    "clf.fit(x, y)\n",
    "dump(clf, \"../models/drugs_mlp.joblib\")\n",
    "\n",
    "\n",
    "clf_red = MLPClassifier(random_state=1, max_iter=300)\n",
    "clf_red.fit(x_red, y_red)\n",
    "dump(clf_red, \"../models/red_mlp.joblib\")\n",
    "\n",
    "\n",
    "clf_white = MLPClassifier(random_state=1, max_iter=300)\n",
    "clf_white.fit(x_white, y_white)\n",
    "dump(clf_white, \"../models/white_mlp.joblib\")"
   ]
  },
  {
   "cell_type": "code",
   "execution_count": null,
   "metadata": {},
   "outputs": [],
   "source": [
    "\n"
   ]
  },
  {
   "cell_type": "code",
   "execution_count": null,
   "metadata": {},
   "outputs": [],
   "source": []
  }
 ],
 "metadata": {
  "kernelspec": {
   "display_name": "Python 3.10.7 ('env': venv)",
   "language": "python",
   "name": "python3"
  },
  "language_info": {
   "codemirror_mode": {
    "name": "ipython",
    "version": 3
   },
   "file_extension": ".py",
   "mimetype": "text/x-python",
   "name": "python",
   "nbconvert_exporter": "python",
   "pygments_lexer": "ipython3",
   "version": "3.10.7"
  },
  "orig_nbformat": 4,
  "vscode": {
   "interpreter": {
    "hash": "d436f61485600065bbd78f0914ccd3502a94e56b5aeca30a275664867d5d71ca"
   }
  }
 },
 "nbformat": 4,
 "nbformat_minor": 2
}
